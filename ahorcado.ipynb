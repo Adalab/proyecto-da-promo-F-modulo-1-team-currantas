{
 "cells": [
  {
   "cell_type": "markdown",
   "metadata": {},
   "source": [
    "# Ahorcado\n",
    "\n",
    "- Reglas del juego del \"Ahorcado\":\n",
    "\n",
    "    - Un jugador elige una palabra secreta y dibuja un espacio para cada letra de la palabra.\n",
    "\n",
    "    - El otro jugador intenta adivinar letras para completar la palabra.\n",
    "\n",
    "    - Si el jugador adivinador adivina una letra correctamente, se revela en su lugar correspondiente.\n",
    "\n",
    "    - Si el jugador adivinador adivina incorrectamente, se dibuja una parte del cuerpo en la horca.\n",
    "\n",
    "    - El objetivo del jugador adivinador es adivinar la palabra antes de que se dibuje el dibujo completo en la horca.\n",
    "\n",
    "\n",
    "- Pistas para las alumnas:\n",
    "\n",
    "    1. Empieza por seleccionar una palabra secreta para que el jugador adivinador intente adivinar. Puedes crear una lista de palabras.\n",
    "\n",
    "    2. Inicializa el tablero de juego con guiones bajos (\"_\") para representar las letras no adivinadas.\n",
    "\n",
    "    3. Utiliza un bucle `while` para permitir que el jugador adivinador haga múltiples intentos hasta que adivine la palabra o se agoten los intentos.\n",
    "\n",
    "    4. Verifica si la letra adivinada por el jugador está en la palabra secreta y actualicen el tablero en consecuencia.\n",
    "\n",
    "    5. Lleva un seguimiento de las letras adivinadas y los intentos fallidos.\n",
    "\n",
    "    6. Determina las condiciones de victoria y derrota del juego, y salgan del bucle cuando se cumplan estas condiciones."
   ]
  },
  {
   "cell_type": "code",
   "execution_count": 18,
   "metadata": {},
   "outputs": [
    {
     "name": "stdout",
     "output_type": "stream",
     "text": [
      "['-', '-', '-', '-']\n",
      "----\n",
      "o\n",
      "['-', 'o', '-', '-']\n",
      "-o--\n"
     ]
    }
   ],
   "source": [
    "    # 1. Empieza por seleccionar una palabra secreta para que el jugador adivinador intente adivinar. Puedes crear una lista de palabras.\n",
    "\n",
    "palabra_secreta = 'cosa'\n",
    "\n",
    "    # 2. Inicializa el tablero de juego con guiones bajos (\"_\") para representar las letras no adivinadas.\n",
    "palabra_jugador = '-'*len(palabra_secreta)\n",
    "lista_palabra_jugador = list(palabra_jugador)\n",
    "print(lista_palabra_jugador)\n",
    "\n",
    "print(palabra_jugador)\n",
    "\n",
    "errores = 0\n",
    "    # 3. Utiliza un bucle `while` para permitir que el jugador adivinador haga múltiples intentos hasta que adivine la palabra o se agoten los intentos.\n",
    "while errores != 11:\n",
    "        letra = input('Introduce una letra').lower()\n",
    "\n",
    "        if letra in palabra_secreta:\n",
    "            print(letra)\n",
    "            indice = palabra_secreta.index(letra)\n",
    "            lista_palabra_jugador[indice] = letra\n",
    "            print(lista_palabra_jugador)\n",
    "            palabra_jugador = \"\".join(lista_palabra_jugador)\n",
    "            print(palabra_jugador)\n",
    "        else:\n",
    "            errores += 1\n",
    "\n",
    "        if palabra_jugador == palabra_secreta:\n",
    "            print('Has ganado')\n",
    "            break   \n",
    "             \n",
    "    # 4. Verifica si la letra adivinada por el jugador está en la palabra secreta y actualicen el tablero en consecuencia.\n",
    "\n",
    "\n",
    "    # 5. Lleva un seguimiento de las letras adivinadas y los intentos fallidos.\n",
    "\n",
    "    # 6. Determina las condiciones de victoria y derrota del juego, y salgan del bucle cuando se cumplan estas condiciones.\n"
   ]
  }
 ],
 "metadata": {
  "kernelspec": {
   "display_name": "base",
   "language": "python",
   "name": "python3"
  },
  "language_info": {
   "codemirror_mode": {
    "name": "ipython",
    "version": 3
   },
   "file_extension": ".py",
   "mimetype": "text/x-python",
   "name": "python",
   "nbconvert_exporter": "python",
   "pygments_lexer": "ipython3",
   "version": "3.9.7"
  }
 },
 "nbformat": 4,
 "nbformat_minor": 2
}
