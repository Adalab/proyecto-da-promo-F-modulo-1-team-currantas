{
 "cells": [
  {
   "cell_type": "markdown",
   "metadata": {},
   "source": [
    "# Preguntas y Respuestas\n",
    "\n",
    "\n",
    "- Reglas del Juego de \"Preguntas y Respuestas de Geografía\":\n",
    "El juego consiste en hacer preguntas de geografía y que el jugador adivine la respuesta correcta.\n",
    "\n",
    "Cada pregunta tiene una respuesta única y correcta.\n",
    "\n",
    "El jugador tiene un número limitado de intentos para responder correctamente a cada pregunta.\n",
    "\n",
    "El juego sigue hasta que el jugador responda incorrectamente 3 de veces o haya respondido 5 preguntas correctamente.\n",
    "\n",
    "\n",
    "- Pistas para las alumnas:\n",
    "\n",
    "Comienza creando un diccionario que contenga preguntas de geografía como claves y respuestas como valores.\n",
    "\n",
    "Implementa una función para seleccionar una pregunta aleatoria del diccionario.\n",
    "\n",
    "Utiliza un bucle `while` para hacer preguntas de geografía hasta que el jugador responda un número específico de preguntas correctamente o alcance un número máximo de respuestas incorrectas.\n",
    "\n",
    "Dentro del bucle, presenta la pregunta al jugador y permita que ingresen sus respuestas.\n",
    "\n",
    "Lleva un seguimiento del número de preguntas realizadas y el número de respuestas correctas."
   ]
  },
  {
   "cell_type": "code",
   "execution_count": 22,
   "metadata": {},
   "outputs": [],
   "source": [
    "import random\n",
    "\n",
    "class Juego_adivinar:\n",
    "    \n",
    "    def __init__(self, aciertos=0, intentos=3):\n",
    "        self.intentos = intentos\n",
    "        self.aciertos = aciertos\n",
    "        self.preguntas = {\n",
    "                            \"¿Cuál es el país más pequeño del mundo?\": \"Vaticano\",\n",
    "                            \"¿Cuántos océanos hay en la Tierra? (Escribe la respuesta con un número)\": \"5\",\n",
    "                            \"¿Qué país es el más grande del mundo?\": \"Rusia\",\n",
    "                            \"¿Cuál es la montaña más alta del mundo?\": \"Everest\",\n",
    "                            \"¿Cuál es el río más largo del mundo?\": \"Nilo\",\n",
    "                            \"¿Qué país tiene más habitantes?\" : \"China\",\n",
    "                            \"¿De dónde provienen los osos polares?\" :  \"Artico\",\n",
    "                            \"¿Cuántos mares existen en la Tierra? (Escribe la respuesta con un número)\" : \"60\",\n",
    "                            \"¿Qué río pasa por más países?\" : \"Danubio\",\n",
    "                            \"¿Dónde se encuentra el arrecife de coral más grande?\" : \"Australia\",\n",
    "                            \"¿Cuál es la ciudad más poblada del mundo?\" : \"Tokio\", \n",
    "                            \"¿Cuál es la ciudad con menos habitantes del mundo?\" : \"Hum\",\n",
    "                            \"¿El desierto más grande del mundo?\" : \"Sahara\",\n",
    "                            \"¿En qué país se hablan más idiomas?\" : \"Papúa Nueva Guinea\",\n",
    "                            \"¿Cuál es la montaña más alta de España?\" : \"Teide\",\n",
    "                            \"¿Cuántos estados forman parte de Estados Unidos? (Escribe la respuesta con un número)\" : \"50\"\n",
    "                            }\n",
    "\n",
    "\n",
    "    def jugar(self):   \n",
    "        \n",
    "        while self.aciertos < 5 and self.intentos > 0:\n",
    "            pregunta = random.choice(list(self.preguntas.items()))\n",
    "            self.preguntas.pop(pregunta[0])\n",
    "            intentos = self.intentos\n",
    "            respuesta_usuario = input(f\"Bienvenido! Por favor, responde a la pregunta: {pregunta[0]}. \\nTienes {intentos} intentos\").lower()\n",
    "            \n",
    "            while intentos > 0:\n",
    "                \n",
    "                if respuesta_usuario == pregunta[1].lower():\n",
    "                    print(f\"Enhorabuena has acertado la pregunta: {pregunta[0]}\")\n",
    "                    self.aciertos +=1\n",
    "                    break\n",
    "                    \n",
    "\n",
    "                else: \n",
    "                    intentos -=1\n",
    "                    print(\"Lo siento, la respuesta introducida es incorrecta:\")\n",
    "                    \n",
    "\n",
    "                    if intentos == 0:\n",
    "                    \n",
    "                        print(f\"Ups! Te has quedado sin intentos. Has perdido, la respuesta a la pregunta {pregunta[0]} es {pregunta[1]}😨\")\n",
    "                        \n",
    "                    else:\n",
    "                        respuesta_usuario = input(f\"Ánimo, casi lo tienes, prueba otra vez: {pregunta[0]}\\nTienes {intentos} intentos\").lower()\n",
    "\n",
    "        if self.aciertos == 5:\n",
    "            print(\"BIEEEEEN! Has ganado 🥰\")\n",
    "\n"
   ]
  },
  {
   "cell_type": "code",
   "execution_count": null,
   "metadata": {},
   "outputs": [
    {
     "name": "stdout",
     "output_type": "stream",
     "text": [
      "Lo siento, la respuesta introducida es incorrecta:\n",
      "Lo siento, la respuesta introducida es incorrecta:\n",
      "Enhorabuena has acertado la pregunta: ¿Cuál es la montaña más alta del mundo?\n",
      "Enhorabuena has acertado la pregunta: ¿Cuál es el río más largo del mundo?\n",
      "Enhorabuena has acertado la pregunta: ¿Cuántos océanos hay en la Tierra? (Escribe la respuesta con un número)\n",
      "Enhorabuena has acertado la pregunta: ¿Cuál es el país más pequeño del mundo?\n",
      "Enhorabuena has acertado la pregunta: ¿Qué país es el más grande del mundo?\n",
      "BIEEEEEN! Has ganado 🥰\n"
     ]
    }
   ],
   "source": [
    "partida1 = Juego_adivinar()\n",
    "partida1.jugar()"
   ]
  }
 ],
 "metadata": {
  "kernelspec": {
   "display_name": "base",
   "language": "python",
   "name": "python3"
  },
  "language_info": {
   "codemirror_mode": {
    "name": "ipython",
    "version": 3
   },
   "file_extension": ".py",
   "mimetype": "text/x-python",
   "name": "python",
   "nbconvert_exporter": "python",
   "pygments_lexer": "ipython3",
   "version": "3.9.7"
  }
 },
 "nbformat": 4,
 "nbformat_minor": 2
}
