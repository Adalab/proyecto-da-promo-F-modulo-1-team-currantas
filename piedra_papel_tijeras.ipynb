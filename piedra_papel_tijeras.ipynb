{
 "cells": [
  {
   "cell_type": "markdown",
   "metadata": {},
   "source": [
    "# Piedra Papel & Tijera\n",
    "\n",
    "- Reglas del Juego \"Piedra, Papel y Tijera\":\n",
    "\n",
    "    - Dos jugadores eligen una de las tres opciones: \"Piedra\", \"Papel\" o \"Tijera\".\n",
    "\n",
    "    - Las reglas para determinar al ganador son:\n",
    "        \n",
    "        - Piedra vence a Tijera.\n",
    "\n",
    "        - Tijera vence a Papel.\n",
    "\n",
    "        - Papel vence a Piedra.\n",
    "\n",
    "        - El jugador que gana una ronda obtiene un punto.\n",
    "        \n",
    "        - El juego continúa hasta que un jugador haya acumulado 3 puntos, convirtiéndose en el ganador.\n",
    "\n",
    "\n",
    "- Pistas para las alumnas:\n",
    "\n",
    "    1. Comienza por definir el número de puntos objetivo que se deben alcanzar para ganar el juego.\n",
    "\n",
    "    2. Implementa una función que obtenga la elección del jugador y valide que sea una de las opciones válidas (\"Piedra\", \"Papel\" o \"Tijera\").\n",
    "\n",
    "    3. Utiliza un bucle `while` para llevar un registro de los puntos de cada jugador y continuar el juego hasta que se alcance el número de puntos objetivo.\n",
    "\n",
    "    4. Genera una elección aleatoria para el segundo jugador (la computadora) utilizando el módulo `random`.\n",
    "\n",
    "    5. Determina al ganador de cada ronda y actualiza los puntos correspondientes.\n",
    "\n",
    "    6. Verifica si algún jugador ha alcanzado el número de puntos objetivo y finalicen el juego cuando eso suceda.\n",
    "\n",
    "\n",
    "\n",
    "\n"
   ]
  },
  {
   "cell_type": "code",
   "execution_count": 1,
   "metadata": {},
   "outputs": [],
   "source": [
    "# el dilema del emogi. ya veremos!\n",
    "\n",
    "\n",
    "puntos_victoria = 3\n",
    "\n",
    "jugador_1 = input(\"Jugador 1: Escoge piedra, papel o tijeras\")\n",
    "jugador_2 = input(\"Jugador 2: Escoge piedra, papel o tijeras\")\n",
    "\n",
    "\n",
    "\n",
    "\n"
   ]
  }
 ],
 "metadata": {
  "kernelspec": {
   "display_name": "base",
   "language": "python",
   "name": "python3"
  },
  "language_info": {
   "codemirror_mode": {
    "name": "ipython",
    "version": 3
   },
   "file_extension": ".py",
   "mimetype": "text/x-python",
   "name": "python",
   "nbconvert_exporter": "python",
   "pygments_lexer": "ipython3",
   "version": "3.9.7"
  }
 },
 "nbformat": 4,
 "nbformat_minor": 2
}
