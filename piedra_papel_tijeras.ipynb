{
 "cells": [
  {
   "cell_type": "markdown",
   "metadata": {},
   "source": [
    "# Piedra Papel & Tijera\n",
    "\n",
    "- Reglas del Juego \"Piedra, Papel y Tijera\":\n",
    "\n",
    "    - Dos jugadores eligen una de las tres opciones: \"Piedra\", \"Papel\" o \"Tijera\".\n",
    "\n",
    "    - Las reglas para determinar al ganador son:\n",
    "        \n",
    "        - Piedra vence a Tijera.\n",
    "\n",
    "        - Tijera vence a Papel.\n",
    "\n",
    "        - Papel vence a Piedra.\n",
    "\n",
    "        - El jugador que gana una ronda obtiene un punto.\n",
    "        \n",
    "        - El juego continúa hasta que un jugador haya acumulado 3 puntos, convirtiéndose en el ganador.\n",
    "\n",
    "\n",
    "- Pistas para las alumnas:\n",
    "\n",
    "    1. Comienza por definir el número de puntos objetivo que se deben alcanzar para ganar el juego.\n",
    "\n",
    "    2. Implementa una función que obtenga la elección del jugador y valide que sea una de las opciones válidas (\"Piedra\", \"Papel\" o \"Tijera\").\n",
    "\n",
    "    3. Utiliza un bucle `while` para llevar un registro de los puntos de cada jugador y continuar el juego hasta que se alcance el número de puntos objetivo.\n",
    "\n",
    "    4. Genera una elección aleatoria para el segundo jugador (la computadora) utilizando el módulo `random`.\n",
    "\n",
    "    5. Determina al ganador de cada ronda y actualiza los puntos correspondientes.\n",
    "\n",
    "    6. Verifica si algún jugador ha alcanzado el número de puntos objetivo y finalicen el juego cuando eso suceda.\n",
    "\n",
    "\n",
    "\n",
    "\n"
   ]
  },
  {
   "cell_type": "code",
   "execution_count": 23,
   "metadata": {},
   "outputs": [
    {
     "name": "stdout",
     "output_type": "stream",
     "text": [
      "Jugador 1: Recuerda que tienes que escoger entre \"piedra\", \"papel\" o \"tijera\". Vuelve a intentarlo\n",
      "Jugador 1: Recuerda que tienes que escoger entre \"piedra\", \"papel\" o \"tijera\". Vuelve a intentarlo\n",
      "Jugador 1: Recuerda que tienes que escoger entre \"piedra\", \"papel\" o \"tijera\". Vuelve a intentarlo\n",
      "Jugador 1: Recuerda que tienes que escoger entre \"piedra\", \"papel\" o \"tijera\". Vuelve a intentarlo\n",
      "Jugador 1: Recuerda que tienes que escoger entre \"piedra\", \"papel\" o \"tijera\". Vuelve a intentarlo\n",
      "Jugador 1: Recuerda que tienes que escoger entre \"piedra\", \"papel\" o \"tijera\". Vuelve a intentarlo\n",
      "Jugador 1: Recuerda que tienes que escoger entre \"piedra\", \"papel\" o \"tijera\". Vuelve a intentarlo\n",
      "Jugador 1: Recuerda que tienes que escoger entre \"piedra\", \"papel\" o \"tijera\". Vuelve a intentarlo\n"
     ]
    },
    {
     "ename": "KeyboardInterrupt",
     "evalue": "Interrupted by user",
     "output_type": "error",
     "traceback": [
      "\u001b[0;31m---------------------------------------------------------------------------\u001b[0m",
      "\u001b[0;31mKeyboardInterrupt\u001b[0m                         Traceback (most recent call last)",
      "\u001b[0;32m/tmp/ipykernel_1291/3694145077.py\u001b[0m in \u001b[0;36m<module>\u001b[0;34m\u001b[0m\n\u001b[1;32m      8\u001b[0m \u001b[0;32mwhile\u001b[0m \u001b[0mpuntosjugador_1\u001b[0m \u001b[0;34m<\u001b[0m \u001b[0mpuntos_victoria\u001b[0m \u001b[0;32mor\u001b[0m \u001b[0mpuntosjugador_2\u001b[0m \u001b[0;34m<\u001b[0m \u001b[0mpuntos_victoria\u001b[0m\u001b[0;34m:\u001b[0m\u001b[0;34m\u001b[0m\u001b[0;34m\u001b[0m\u001b[0m\n\u001b[1;32m      9\u001b[0m     \u001b[0mjugador_1\u001b[0m \u001b[0;34m=\u001b[0m \u001b[0minput\u001b[0m\u001b[0;34m(\u001b[0m\u001b[0;34m\"Jugador 1: Escoge 'piedra', 'papel' o 'tijera'\"\u001b[0m\u001b[0;34m)\u001b[0m\u001b[0;34m.\u001b[0m\u001b[0mlower\u001b[0m\u001b[0;34m(\u001b[0m\u001b[0;34m)\u001b[0m\u001b[0;34m\u001b[0m\u001b[0;34m\u001b[0m\u001b[0m\n\u001b[0;32m---> 10\u001b[0;31m     \u001b[0mjugador_2\u001b[0m \u001b[0;34m=\u001b[0m \u001b[0minput\u001b[0m\u001b[0;34m(\u001b[0m\u001b[0;34m\"Jugador 2: Escoge 'piedra', 'papel' o 'tijera'\"\u001b[0m\u001b[0;34m)\u001b[0m\u001b[0;34m.\u001b[0m\u001b[0mlower\u001b[0m\u001b[0;34m(\u001b[0m\u001b[0;34m)\u001b[0m\u001b[0;34m\u001b[0m\u001b[0;34m\u001b[0m\u001b[0m\n\u001b[0m\u001b[1;32m     11\u001b[0m     \u001b[0mopciones\u001b[0m \u001b[0;34m=\u001b[0m \u001b[0;34m[\u001b[0m\u001b[0;34m'piedra'\u001b[0m\u001b[0;34m,\u001b[0m \u001b[0;34m'papel'\u001b[0m\u001b[0;34m,\u001b[0m \u001b[0;34m'tijera'\u001b[0m\u001b[0;34m]\u001b[0m\u001b[0;34m\u001b[0m\u001b[0;34m\u001b[0m\u001b[0m\n\u001b[1;32m     12\u001b[0m \u001b[0;34m\u001b[0m\u001b[0m\n",
      "\u001b[0;32m~/anaconda3/lib/python3.9/site-packages/ipykernel/kernelbase.py\u001b[0m in \u001b[0;36mraw_input\u001b[0;34m(self, prompt)\u001b[0m\n\u001b[1;32m   1004\u001b[0m                 \u001b[0;34m\"raw_input was called, but this frontend does not support input requests.\"\u001b[0m\u001b[0;34m\u001b[0m\u001b[0;34m\u001b[0m\u001b[0m\n\u001b[1;32m   1005\u001b[0m             )\n\u001b[0;32m-> 1006\u001b[0;31m         return self._input_request(\n\u001b[0m\u001b[1;32m   1007\u001b[0m             \u001b[0mstr\u001b[0m\u001b[0;34m(\u001b[0m\u001b[0mprompt\u001b[0m\u001b[0;34m)\u001b[0m\u001b[0;34m,\u001b[0m\u001b[0;34m\u001b[0m\u001b[0;34m\u001b[0m\u001b[0m\n\u001b[1;32m   1008\u001b[0m             \u001b[0mself\u001b[0m\u001b[0;34m.\u001b[0m\u001b[0m_parent_ident\u001b[0m\u001b[0;34m[\u001b[0m\u001b[0;34m\"shell\"\u001b[0m\u001b[0;34m]\u001b[0m\u001b[0;34m,\u001b[0m\u001b[0;34m\u001b[0m\u001b[0;34m\u001b[0m\u001b[0m\n",
      "\u001b[0;32m~/anaconda3/lib/python3.9/site-packages/ipykernel/kernelbase.py\u001b[0m in \u001b[0;36m_input_request\u001b[0;34m(self, prompt, ident, parent, password)\u001b[0m\n\u001b[1;32m   1049\u001b[0m             \u001b[0;32mexcept\u001b[0m \u001b[0mKeyboardInterrupt\u001b[0m\u001b[0;34m:\u001b[0m\u001b[0;34m\u001b[0m\u001b[0;34m\u001b[0m\u001b[0m\n\u001b[1;32m   1050\u001b[0m                 \u001b[0;31m# re-raise KeyboardInterrupt, to truncate traceback\u001b[0m\u001b[0;34m\u001b[0m\u001b[0;34m\u001b[0m\u001b[0m\n\u001b[0;32m-> 1051\u001b[0;31m                 \u001b[0;32mraise\u001b[0m \u001b[0mKeyboardInterrupt\u001b[0m\u001b[0;34m(\u001b[0m\u001b[0;34m\"Interrupted by user\"\u001b[0m\u001b[0;34m)\u001b[0m \u001b[0;32mfrom\u001b[0m \u001b[0;32mNone\u001b[0m\u001b[0;34m\u001b[0m\u001b[0;34m\u001b[0m\u001b[0m\n\u001b[0m\u001b[1;32m   1052\u001b[0m             \u001b[0;32mexcept\u001b[0m \u001b[0mException\u001b[0m\u001b[0;34m:\u001b[0m\u001b[0;34m\u001b[0m\u001b[0;34m\u001b[0m\u001b[0m\n\u001b[1;32m   1053\u001b[0m                 \u001b[0mself\u001b[0m\u001b[0;34m.\u001b[0m\u001b[0mlog\u001b[0m\u001b[0;34m.\u001b[0m\u001b[0mwarning\u001b[0m\u001b[0;34m(\u001b[0m\u001b[0;34m\"Invalid Message:\"\u001b[0m\u001b[0;34m,\u001b[0m \u001b[0mexc_info\u001b[0m\u001b[0;34m=\u001b[0m\u001b[0;32mTrue\u001b[0m\u001b[0;34m)\u001b[0m\u001b[0;34m\u001b[0m\u001b[0;34m\u001b[0m\u001b[0m\n",
      "\u001b[0;31mKeyboardInterrupt\u001b[0m: Interrupted by user"
     ]
    }
   ],
   "source": [
    "# el dilema del emoji. ya veremos!\n",
    "\n",
    "\n",
    "puntos_victoria = 3\n",
    "puntosjugador_1 = 0\n",
    "puntosjugador_2 = 0\n",
    "\n",
    "while puntosjugador_1 < puntos_victoria or puntosjugador_2 < puntos_victoria:\n",
    "    jugador_1 = input(\"Jugador 1: Escoge 'piedra', 'papel' o 'tijera'\").lower()\n",
    "    jugador_2 = input(\"Jugador 2: Escoge 'piedra', 'papel' o 'tijera'\").lower()\n",
    "    opciones = ['piedra', 'papel', 'tijera'] \n",
    "    \n",
    "      \n",
    "    if jugador_1 not in opciones:\n",
    "        print('Jugador 1: Recuerda que tienes que escoger entre \"piedra\", \"papel\" o \"tijera\". Vuelve a intentarlo')\n",
    "    elif jugador_2 not in opciones:\n",
    "        print('Jugador 2: Recuerda que tienes que escoger entre \"piedra\", \"papel\" o \"tijera\". Vuelve a intentarlo')\n",
    "    else:\n",
    "        if jugador_1 == 'piedra' and jugador_2 == 'tijera':\n",
    "            print('Jugador 1 ha ganado')\n",
    "            puntosjugador_1 += 1\n",
    "        elif jugador_1 == 'piedra' and jugador_2 == 'papel':\n",
    "            print('Jugador 2 ha ganado')\n",
    "            puntosjugador_2 += 1\n",
    "        elif jugador_1 == 'piedra' and jugador_2 == 'piedra':\n",
    "            print('Habéis empatado, prueba otra vez')\n",
    "        elif jugador_1 == 'papel' and jugador_2 == 'tijera':\n",
    "            print('Jugador 2 ha ganado')\n",
    "            puntosjugador_2 += 1\n",
    "        elif jugador_1 == 'papel' and jugador_2 == 'papel':\n",
    "            print('Habéis empatado, prueba otra vez')\n",
    "        elif jugador_1 == 'papel' and jugador_2 == 'piedra':\n",
    "            print('Jugador 1 ha ganado')\n",
    "            puntosjugador_1 += 1\n",
    "        elif jugador_1 == 'tijera' and jugador_2 == 'tijera':\n",
    "            print('Habéis empatado, prueba otra vez')\n",
    "        elif jugador_1 == 'tijera' and jugador_2 == 'papel':\n",
    "            print('Jugador 1 ha ganado')\n",
    "            puntosjugador_1 += 1\n",
    "        elif jugador_1 == 'tijera' and jugador_2 == 'piedra':\n",
    "            print('Jugador 2 ha ganado')\n",
    "            puntosjugador_2 += 1      \n",
    "    \n",
    "if puntosjugador_1 == puntos_victoria:\n",
    "    print('Ha ganado jugador_1')\n",
    "elif(puntosjugador_2 == puntos_victoria):\n",
    "    print('Ha ganado jugador_2')\n"
   ]
  }
 ],
 "metadata": {
  "kernelspec": {
   "display_name": "base",
   "language": "python",
   "name": "python3"
  },
  "language_info": {
   "codemirror_mode": {
    "name": "ipython",
    "version": 3
   },
   "file_extension": ".py",
   "mimetype": "text/x-python",
   "name": "python",
   "nbconvert_exporter": "python",
   "pygments_lexer": "ipython3",
   "version": "3.9.7"
  }
 },
 "nbformat": 4,
 "nbformat_minor": 2
}
